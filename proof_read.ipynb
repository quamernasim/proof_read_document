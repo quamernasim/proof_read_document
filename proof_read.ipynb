{
 "cells": [
  {
   "cell_type": "code",
   "execution_count": 1,
   "metadata": {},
   "outputs": [],
   "source": [
    "import re"
   ]
  },
  {
   "cell_type": "code",
   "execution_count": 2,
   "metadata": {},
   "outputs": [],
   "source": [
    "def proof_read(text, period_pattern, comma_pattern, space_pattern):\n",
    "    # Perform the split\n",
    "    period_result = re.split(period_pattern, text)\n",
    "    period_result = [i for i in period_result if len(i)]\n",
    "    comma_result = re.split(comma_pattern, text)\n",
    "    space_result = re.split(space_pattern, text)\n",
    "\n",
    "    print(\"Period-based Check\")\n",
    "    if len(period_result) > 1:\n",
    "        print(\"\\tIssue with period-based check detected.\")\n",
    "        for i in period_result:\n",
    "            print('\\t\\t'+i)\n",
    "    elif len(period_result) == 1:\n",
    "        print(\"\\tPeriod-based check passed.\")\n",
    "    else:\n",
    "        print(\"\\tUnknown error with period-based check.\")\n",
    "\n",
    "    print(\"=\"*100)\n",
    "    print(\"\\nComma-based Check\")\n",
    "    if len(comma_result) > 1:\n",
    "        print(\"\\tIssue with comma-based check detected.\")\n",
    "        for i in comma_result:\n",
    "            print('\\t\\t'+i)\n",
    "    elif len(comma_result) == 1:\n",
    "        print(\"\\tComma-based check passed.\")\n",
    "    else:\n",
    "        print(\"\\tUnknown error with comma-based check.\")\n",
    "\n",
    "    print(\"=\"*100)\n",
    "    print(\"\\nSpace-based Check\")\n",
    "    if len(space_result) > 1:\n",
    "        print(\"\\tIssue with space-based check detected.\")\n",
    "        for i in space_result:\n",
    "            print('\\t\\t'+i)\n",
    "    elif len(space_result) == 1:\n",
    "        print(\"\\tSpace-based check passed.\")\n",
    "    else:\n",
    "        print(\"\\tUnknown error with space-based check.\")"
   ]
  },
  {
   "cell_type": "code",
   "execution_count": 3,
   "metadata": {},
   "outputs": [],
   "source": [
    "period_pattern = r'\\.(?!\\d|,\\s\\d{4}|\\s\\d{4}|\\s[A-Z])'\n",
    "comma_pattern = r',(?!\\s)'\n",
    "space_pattern = r'\\s{2,}'"
   ]
  },
  {
   "cell_type": "code",
   "execution_count": 5,
   "metadata": {},
   "outputs": [
    {
     "name": "stdout",
     "output_type": "stream",
     "text": [
      "Period-based Check\n",
      "\tPeriod-based check passed.\n",
      "====================================================================================================\n",
      "\n",
      "Comma-based Check\n",
      "\tComma-based check passed.\n",
      "====================================================================================================\n",
      "\n",
      "Space-based Check\n",
      "\tSpace-based check passed.\n"
     ]
    }
   ],
   "source": [
    "text = \"\"\"\n",
    "Future research could focus on refining the model to enhance its performance further. Given the perpetual challenge of data scarcity in the petroleum industry, exploring techniques to improve model performance with limited data could be beneficial. Additionally, developing a user-friendly tool with interactive capabilities would enable the utilization of vertically shifted predictions, enhancing the practical utility of the model in real-world applications. Oftentimes, a large amount of noise is present in FMI logs, which can cause DL-based approaches to fail. Future studies could explore methods to enhance the tool's ability to reduce low-level noise, thereby enabling DL models to work more efficiently. Future studies could also aim to extract sub-classifications of fractures based on resistivity and size, providing additional insights into fracture characteristics and enhancing the model’s precision and applicability. In conclusion, our study contributes to the advancement of subsurface characterization techniques and underscores the potential of ML in geoscience applications.\n",
    "\"\"\"\n",
    "\n",
    "proof_read(text[1:-1], period_pattern, comma_pattern, space_pattern)"
   ]
  },
  {
   "cell_type": "code",
   "execution_count": null,
   "metadata": {},
   "outputs": [],
   "source": []
  }
 ],
 "metadata": {
  "kernelspec": {
   "display_name": "ML",
   "language": "python",
   "name": "python3"
  },
  "language_info": {
   "codemirror_mode": {
    "name": "ipython",
    "version": 3
   },
   "file_extension": ".py",
   "mimetype": "text/x-python",
   "name": "python",
   "nbconvert_exporter": "python",
   "pygments_lexer": "ipython3",
   "version": "undefined.undefined.undefined"
  }
 },
 "nbformat": 4,
 "nbformat_minor": 2
}
